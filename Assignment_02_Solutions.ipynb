{
 "cells": [
  {
   "cell_type": "markdown",
   "id": "c3889342",
   "metadata": {},
   "source": [
    "# Assignment 02 - Conditional Statements (Basic Level Solutions)"
   ]
  },
  {
   "cell_type": "code",
   "execution_count": null,
   "id": "23f95e60",
   "metadata": {},
   "outputs": [],
   "source": [
    "# Check if a number is even or odd (Basic Level)\n",
    "\n",
    "number = int(input(\"Enter a number: \"))\n",
    "\n",
    "if number % 2 == 0:\n",
    "    print(\"The number is Even\")\n",
    "else:\n",
    "    print(\"The number is Odd\")"
   ]
  },
  {
   "cell_type": "code",
   "execution_count": null,
   "id": "c59fa620",
   "metadata": {},
   "outputs": [],
   "source": [
    "# Check if a number is positive, negative, or zero (Basic Level)\n",
    "\n",
    "num = float(input(\"Enter a number: \"))\n",
    "\n",
    "if num > 0:\n",
    "    print(\"The number is Positive\")\n",
    "elif num < 0:\n",
    "    print(\"The number is Negative\")\n",
    "else:\n",
    "    print(\"The number is Zero\")"
   ]
  },
  {
   "cell_type": "code",
   "execution_count": null,
   "id": "51e2a40d",
   "metadata": {},
   "outputs": [],
   "source": [
    "# Find the largest among three numbers (Basic Level)\n",
    "\n",
    "a = float(input(\"Enter first number: \"))\n",
    "b = float(input(\"Enter second number: \"))\n",
    "c = float(input(\"Enter third number: \"))\n",
    "\n",
    "if a >= b and a >= c:\n",
    "    print(\"The largest number is:\", a)\n",
    "elif b >= a and b >= c:\n",
    "    print(\"The largest number is:\", b)\n",
    "else:\n",
    "    print(\"The largest number is:\", c)"
   ]
  },
  {
   "cell_type": "code",
   "execution_count": null,
   "id": "19b13db6",
   "metadata": {},
   "outputs": [],
   "source": [
    "# Check if a year is a leap year (Basic Level)\n",
    "\n",
    "year = int(input(\"Enter a year: \"))\n",
    "\n",
    "if (year % 4 == 0 and year % 100 != 0) or (year % 400 == 0):\n",
    "    print(year, \"is a Leap Year\")\n",
    "else:\n",
    "    print(year, \"is not a Leap Year\")"
   ]
  },
  {
   "cell_type": "code",
   "execution_count": null,
   "id": "458b20a7",
   "metadata": {},
   "outputs": [],
   "source": [
    "# Grading system based on marks (Basic Level)\n",
    "\n",
    "marks = float(input(\"Enter your marks: \"))\n",
    "\n",
    "if marks >= 90:\n",
    "    print(\"Grade: A\")\n",
    "elif marks >= 80:\n",
    "    print(\"Grade: B\")\n",
    "elif marks >= 70:\n",
    "    print(\"Grade: C\")\n",
    "elif marks >= 60:\n",
    "    print(\"Grade: D\")\n",
    "else:\n",
    "    print(\"Grade: F\")"
   ]
  }
 ],
 "metadata": {},
 "nbformat": 4,
 "nbformat_minor": 5
}