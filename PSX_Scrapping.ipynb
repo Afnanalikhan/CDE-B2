{
 "cells": [
  {
   "cell_type": "code",
   "execution_count": 8,
   "id": "5e65b66d-64a3-48f1-9163-78934cba6dbc",
   "metadata": {},
   "outputs": [],
   "source": [
    "from selenium import webdriver\n",
    "from selenium.webdriver.chrome.service import Service\n",
    "from selenium.webdriver.common.by import By\n",
    "import pandas as pd\n",
    "import time"
   ]
  },
  {
   "cell_type": "code",
   "execution_count": 20,
   "id": "a7a50d8f-4383-44cb-96db-42aae451d93e",
   "metadata": {},
   "outputs": [],
   "source": [
    "from selenium import webdriver\n",
    "from selenium.webdriver.chrome.service import Service\n",
    "\n",
    "path = r'C:\\Users\\HP G5\\Downloads\\chromedriver-win64\\chromedriver.exe'\n",
    "\n",
    "service = Service(executable_path=path)\n",
    "driver = webdriver.Chrome(service=service)\n",
    "driver.get('https://www.psx.com.pk/market-summary/')\n",
    "\n",
    "time.sleep(5)"
   ]
  },
  {
   "cell_type": "code",
   "execution_count": 38,
   "id": "a8f91213-648e-49cf-a710-5fca8379438a",
   "metadata": {},
   "outputs": [],
   "source": [
    "from selenium import webdriver\n",
    "from selenium.webdriver.chrome.service import Service\n",
    "from selenium.webdriver.common.by import By\n",
    "import pandas as pd\n",
    "import time\n",
    "\n",
    "# Set up driver\n",
    "path = r'C:\\Users\\HP G5\\Downloads\\chromedriver-win64\\chromedriver.exe'\n",
    "service = Service(executable_path=path)\n",
    "driver = webdriver.Chrome(service=service)\n",
    "\n",
    "# Open the PSX market summary page\n",
    "driver.get('https://www.psx.com.pk/market-summary/')\n",
    "time.sleep(5)  # Wait for the page to fully load\n",
    "\n",
    "# Find all table rows in the stock market table\n",
    "rows = driver.find_elements(By.XPATH, '//table[contains(@class, \"table\")]//tbody/tr')\n",
    "\n",
    "# Create a list to hold extracted data\n",
    "data = []\n",
    "\n",
    "# Loop through each row and extract stock info\n",
    "for row in rows:\n",
    "    cols = row.find_elements(By.TAG_NAME, 'td')\n",
    "    if len(cols) >= 9:  # Make sure there are enough columns\n",
    "        stock_data = {\n",
    "            \"Symbol\": cols[0].text.strip(),\n",
    "            \"Name\": cols[1].text.strip(),\n",
    "            \"LDCP\": cols[2].text.strip(),      # Last Day Closing Price\n",
    "            \"Open\": cols[3].text.strip(),\n",
    "            \"High\": cols[4].text.strip(),\n",
    "            \"Low\": cols[5].text.strip(),\n",
    "            \"Current\": cols[6].text.strip(),\n",
    "            \"Change\": cols[7].text.strip(),\n",
    "            \"Volume\": cols[8].text.strip()\n",
    "        }\n",
    "        data.append(stock_data)\n",
    "\n",
    "\n"
   ]
  },
  {
   "cell_type": "code",
   "execution_count": 40,
   "id": "6b4554df-b5fc-4f53-8427-47e8dd290e92",
   "metadata": {},
   "outputs": [
    {
     "name": "stdout",
     "output_type": "stream",
     "text": [
      "✅ Data has been saved to 'psx_market_data.csv'\n"
     ]
    }
   ],
   "source": [
    "# Close the browser\n",
    "driver.quit()\n",
    "\n",
    "# Save data to a CSV file using pandas\n",
    "df = pd.DataFrame(data)\n",
    "df.to_csv('psx_market_data.csv', index=False)\n",
    "\n",
    "print(\"✅ Data has been saved to 'psx_market_data.csv'\")"
   ]
  },
  {
   "cell_type": "code",
   "execution_count": 42,
   "id": "824613d9-78f5-4bac-a653-985b35ccf694",
   "metadata": {},
   "outputs": [
    {
     "name": "stdout",
     "output_type": "stream",
     "text": [
      "1_PSX data saved to 'psx_market_data.csv'\n"
     ]
    }
   ],
   "source": [
    "# Create DataFrame and save to CSV\n",
    "columns = ['Symbol', 'Name', 'LDCP', 'Open', 'High', 'Low', 'Current', 'Change', 'Volume']\n",
    "df = pd.DataFrame(data, columns=columns)\n",
    "df.to_csv('psx_market_data.csv', index=False)\n",
    "\n",
    "print(\"1_PSX data saved to 'psx_market_data.csv'\")"
   ]
  },
  {
   "cell_type": "code",
   "execution_count": null,
   "id": "8130451a-df02-4bc8-a54b-ce91d37f5802",
   "metadata": {},
   "outputs": [],
   "source": []
  }
 ],
 "metadata": {
  "kernelspec": {
   "display_name": "Python [conda env:base] *",
   "language": "python",
   "name": "conda-base-py"
  },
  "language_info": {
   "codemirror_mode": {
    "name": "ipython",
    "version": 3
   },
   "file_extension": ".py",
   "mimetype": "text/x-python",
   "name": "python",
   "nbconvert_exporter": "python",
   "pygments_lexer": "ipython3",
   "version": "3.12.7"
  }
 },
 "nbformat": 4,
 "nbformat_minor": 5
}
