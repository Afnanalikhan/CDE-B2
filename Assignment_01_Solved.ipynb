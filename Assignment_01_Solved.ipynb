{
 "cells": [
  {
   "cell_type": "markdown",
   "id": "34032e06",
   "metadata": {},
   "source": [
    "# Assignment 01: Python Basics\n",
    "\n",
    "This notebook contains solutions to the assignment questions."
   ]
  },
  {
   "cell_type": "markdown",
   "id": "7b805630",
   "metadata": {},
   "source": [
    "## Question 1\n",
    "Print your name with your father's name and date of birth using suitable escape sequence characters."
   ]
  },
  {
   "cell_type": "code",
   "execution_count": null,
   "id": "68372581",
   "metadata": {},
   "outputs": [],
   "source": [
    "print(\"My Name: John Doe\\nFather's Name: Michael Doe\\nDate of Birth: 01-Jan-2000\")"
   ]
  },
  {
   "cell_type": "markdown",
   "id": "2b849981",
   "metadata": {},
   "source": [
    "## Question 2\n",
    "Write a Python program to calculate the area of a circle. Take radius as user input."
   ]
  },
  {
   "cell_type": "code",
   "execution_count": null,
   "id": "7a5dccdb",
   "metadata": {},
   "outputs": [],
   "source": [
    "import math\n",
    "radius = float(input(\"Enter the radius of the circle: \"))\n",
    "area = math.pi * radius ** 2\n",
    "print(f\"Area of the circle: {area:.2f}\")"
   ]
  },
  {
   "cell_type": "markdown",
   "id": "2b12d802",
   "metadata": {},
   "source": [
    "## Question 3\n",
    "Write a Python program to swap two variables."
   ]
  },
  {
   "cell_type": "code",
   "execution_count": null,
   "id": "7c06874c",
   "metadata": {},
   "outputs": [],
   "source": [
    "a = input(\"Enter first value: \")\n",
    "b = input(\"Enter second value: \")\n",
    "a, b = b, a\n",
    "print(\"After swapping:\")\n",
    "print(\"First value:\", a)\n",
    "print(\"Second value:\", b)"
   ]
  },
  {
   "cell_type": "markdown",
   "id": "0b510309",
   "metadata": {},
   "source": [
    "## Question 4\n",
    "Write a Python program to check if a number is even or odd."
   ]
  },
  {
   "cell_type": "code",
   "execution_count": null,
   "id": "87a37320",
   "metadata": {},
   "outputs": [],
   "source": [
    "num = int(input(\"Enter a number: \"))\n",
    "if num % 2 == 0:\n",
    "    print(\"Even number\")\n",
    "else:\n",
    "    print(\"Odd number\")"
   ]
  },
  {
   "cell_type": "markdown",
   "id": "550be913",
   "metadata": {},
   "source": [
    "## Question 5\n",
    "Write a Python program to find the largest number among three numbers."
   ]
  },
  {
   "cell_type": "code",
   "execution_count": null,
   "id": "a8caccea",
   "metadata": {},
   "outputs": [],
   "source": [
    "num1 = float(input(\"Enter first number: \"))\n",
    "num2 = float(input(\"Enter second number: \"))\n",
    "num3 = float(input(\"Enter third number: \"))\n",
    "largest = max(num1, num2, num3)\n",
    "print(\"The largest number is:\", largest)"
   ]
  }
 ],
 "metadata": {},
 "nbformat": 4,
 "nbformat_minor": 5
}